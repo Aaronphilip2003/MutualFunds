{
 "cells": [
  {
   "cell_type": "markdown",
   "metadata": {},
   "source": [
    "### Scraping of ICICI Prudential Bluechip Fund - Direct Plan - Growth"
   ]
  },
  {
   "cell_type": "code",
   "execution_count": 18,
   "metadata": {},
   "outputs": [
    {
     "name": "stdout",
     "output_type": "stream",
     "text": [
      "Headers: ['Stock Invested in', 'Sector', 'Value(Mn)', '% of Total Holdings', '1M Change', '1Y Highest Holding', '1Y Lowest Holding', 'Quantity', '1M Change in Qty']\n",
      "Data saved to icici_prudential_bluechip_fund.csv\n"
     ]
    }
   ],
   "source": [
    "import requests\n",
    "from bs4 import BeautifulSoup\n",
    "import pandas as pd\n",
    "\n",
    "# URL of the webpage to scrape\n",
    "url = \"https://www.moneycontrol.com/mutual-funds/nav/icici-prudential-bluechip-fund-direct-plan-growth/MPI1134\"\n",
    "\n",
    "# Request the webpage\n",
    "response = requests.get(url)\n",
    "response.raise_for_status()  # Ensure we got a successful response\n",
    "\n",
    "# Parse the webpage content\n",
    "soup = BeautifulSoup(response.content, 'html.parser')\n",
    "\n",
    "# Locate all tables with the class 'mctable1'\n",
    "tables = soup.find_all('table', {'class': 'mctable1'})\n",
    "\n",
    "# Check if there are at least two tables\n",
    "if len(tables) < 2:\n",
    "    print(\"Less than 2 tables found with class 'mctable1'\")\n",
    "else:\n",
    "    # Select the second table\n",
    "    table = tables[2]\n",
    "\n",
    "    # Locate the thead and its tr\n",
    "    thead = table.find('thead')\n",
    "    header_row = thead.find('tr')\n",
    "\n",
    "    # Print all th elements\n",
    "    headers = [th.text.strip() for th in header_row.find_all('th')]\n",
    "    print(\"Headers:\", headers)\n",
    "\n",
    "    # Locate the tbody and its trs\n",
    "    tbody = table.find('tbody')\n",
    "    rows = tbody.find_all('tr')\n",
    "\n",
    "    # Extract and print the data in tbody\n",
    "    table_data = []\n",
    "    for row in rows:\n",
    "        cols = row.find_all('td')\n",
    "        cols = [ele.text.strip() for ele in cols]\n",
    "        table_data.append(cols)\n",
    "\n",
    "    df = pd.DataFrame(table_data, columns=headers)\n",
    "\n",
    "    # Save DataFrame to CSV\n",
    "    df.to_csv('icici_prudential_bluechip_fund.csv', index=False)\n",
    "    print(\"Data saved to icici_prudential_bluechip_fund.csv\")"
   ]
  },
  {
   "cell_type": "code",
   "execution_count": null,
   "metadata": {},
   "outputs": [],
   "source": []
  }
 ],
 "metadata": {
  "kernelspec": {
   "display_name": "Python 3",
   "language": "python",
   "name": "python3"
  },
  "language_info": {
   "codemirror_mode": {
    "name": "ipython",
    "version": 3
   },
   "file_extension": ".py",
   "mimetype": "text/x-python",
   "name": "python",
   "nbconvert_exporter": "python",
   "pygments_lexer": "ipython3",
   "version": "3.10.0"
  }
 },
 "nbformat": 4,
 "nbformat_minor": 2
}
